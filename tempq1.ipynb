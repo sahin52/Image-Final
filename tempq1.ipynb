{
 "cells": [
  {
   "cell_type": "code",
   "execution_count": 185,
   "metadata": {},
   "outputs": [],
   "source": [
    "import cv2 as cv2\n",
    "import numpy as np\n",
    "import matplotlib.pyplot as plt\n",
    "import os\n",
    "from skimage.morphology import skeletonize\n",
    "\n",
    "\n",
    "cv = cv2\n",
    "def getImages(input_file_path):\n",
    "    res = []\n",
    "    for root, dirs, files in os.walk(input_file_path):\n",
    "        for filename in files:\n",
    "            res.append((cv2.imread(input_file_path+\"/\"+filename),filename))\n",
    "    return res\n",
    "\n",
    "        \n",
    "\n",
    "def enhance_images(images):\n",
    "    res = []\n",
    "    for img in images:\n",
    "        ret,gray = cv2.threshold(img,115,255,cv2.THRESH_BINARY)\n",
    "        for i in range (0,len(gray)):\n",
    "            for j in range(0,len(gray[0])):\n",
    "                pixel = gray[i][j]\n",
    "                if(not (pixel[0]==255 and pixel[1]==255 and pixel[2]==255)):\n",
    "                    gray[i][j]=np.zeros((3))\n",
    "        index = int((len(gray)-(len(gray)%2))/2)\n",
    "        #print(index)\n",
    "        color = gray[0][index]\n",
    "        #for i in range(0,len(gray)):\n",
    "            #if(gray[i][0][0]!=color[0] and gray[i][0][1]!=color[1] and gray[i][0][2]!=color[2]):\n",
    "                #gray[i][0]=color\n",
    "                    \n",
    "        res.append(gray)\n",
    "    \n",
    "    return res\n",
    "    pass\n",
    "\n",
    "def bounding_box(images):\n",
    "    res = []\n",
    "    conts = []\n",
    "    #return images\n",
    "    for im in images:\n",
    "        img = cv2.cvtColor(np.copy(im), cv2.COLOR_BGR2GRAY)\n",
    "        contours, _ = cv2.findContours(img, cv2.RETR_TREE, cv2.CHAIN_APPROX_SIMPLE)\n",
    "        for cont in contours:\n",
    "            x,y,w,h = cv2.boundingRect(cont)\n",
    "            cv.rectangle(img,(x,y),(x+w,y+h),(0,0,255),1)\n",
    "        #cv2.drawContours(img, contours, -1, (0,255,0), 1)\n",
    "        plt.imshow(img)\n",
    "        plt.show()\n",
    "        res.append(img)\n",
    "        conts.append(contours)\n",
    "    return res,conts\n",
    "\n",
    "def skeleton(images):\n",
    "    return images\n",
    "    #TODO\n",
    "\n",
    "def numberOfLoops(images):\n",
    "    return 0\n",
    "    #TODO\n",
    "    pass\n",
    "\n",
    "def measurePerformance(numberOfLoopies):\n",
    "\n",
    "    correctResults = [1,1,1,0,0]#hardcoded\n",
    "    total = 0\n",
    "    for i in range (0,len(correctResults)):\n",
    "        if(numberOfLoopies[i]==correctResults[i]):\n",
    "            total+=1\n",
    "    \n",
    "    print(\"The ratio of true results is:\")\n",
    "    print(total/len(correctResults))\n",
    "    \n",
    "    #TODO\n",
    "\n",
    "    pass\n",
    "\n",
    "def draw_images(images):\n",
    "    for img in images:\n",
    "        plt.imshow(img,cmap='gray')\n",
    "        plt.show()\n",
    "\n",
    "\n",
    "def seperateImageAndFilenames(images):\n",
    "    imgs = []\n",
    "    filenames=[]\n",
    "    for img in images:\n",
    "        imgs.append(img[0])\n",
    "        filenames.append(img[1])\n",
    "    return imgs,filenames\n"
   ]
  },
  {
   "cell_type": "code",
   "execution_count": 165,
   "metadata": {},
   "outputs": [
    {
     "data": {
      "text/plain": [
       "[(array([[[161, 156, 157],\n",
       "          [157, 152, 153],\n",
       "          [156, 150, 151],\n",
       "          ...,\n",
       "          [186, 180, 181],\n",
       "          [190, 184, 185],\n",
       "          [188, 182, 183]],\n",
       "  \n",
       "         [[160, 155, 156],\n",
       "          [155, 150, 151],\n",
       "          [155, 149, 150],\n",
       "          ...,\n",
       "          [190, 184, 185],\n",
       "          [192, 185, 188],\n",
       "          [189, 182, 185]],\n",
       "  \n",
       "         [[160, 155, 156],\n",
       "          [155, 150, 151],\n",
       "          [155, 149, 150],\n",
       "          ...,\n",
       "          [192, 186, 187],\n",
       "          [193, 186, 189],\n",
       "          [191, 184, 187]],\n",
       "  \n",
       "         ...,\n",
       "  \n",
       "         [[174, 171, 167],\n",
       "          [171, 168, 164],\n",
       "          [166, 161, 160],\n",
       "          ...,\n",
       "          [198, 193, 192],\n",
       "          [200, 195, 194],\n",
       "          [194, 189, 188]],\n",
       "  \n",
       "         [[172, 169, 165],\n",
       "          [168, 165, 161],\n",
       "          [164, 159, 158],\n",
       "          ...,\n",
       "          [201, 196, 195],\n",
       "          [200, 195, 194],\n",
       "          [189, 185, 184]],\n",
       "  \n",
       "         [[168, 166, 165],\n",
       "          [165, 163, 162],\n",
       "          [161, 156, 157],\n",
       "          ...,\n",
       "          [202, 197, 198],\n",
       "          [198, 194, 193],\n",
       "          [186, 184, 183]]], dtype=uint8),\n",
       "  '2.png'),\n",
       " (array([[[205, 199, 194],\n",
       "          [204, 198, 193],\n",
       "          [203, 197, 192],\n",
       "          ...,\n",
       "          [209, 196, 198],\n",
       "          [206, 195, 197],\n",
       "          [255, 254, 255]],\n",
       "  \n",
       "         [[201, 197, 192],\n",
       "          [201, 197, 192],\n",
       "          [202, 196, 189],\n",
       "          ...,\n",
       "          [210, 197, 199],\n",
       "          [207, 196, 198],\n",
       "          [255, 254, 255]],\n",
       "  \n",
       "         [[203, 197, 190],\n",
       "          [203, 197, 190],\n",
       "          [204, 196, 189],\n",
       "          ...,\n",
       "          [208, 198, 198],\n",
       "          [206, 198, 198],\n",
       "          [255, 255, 255]],\n",
       "  \n",
       "         ...,\n",
       "  \n",
       "         [[203, 194, 190],\n",
       "          [206, 195, 191],\n",
       "          [206, 194, 192],\n",
       "          ...,\n",
       "          [211, 198, 196],\n",
       "          [204, 195, 192],\n",
       "          [255, 254, 255]],\n",
       "  \n",
       "         [[202, 195, 192],\n",
       "          [205, 196, 193],\n",
       "          [208, 196, 194],\n",
       "          ...,\n",
       "          [209, 197, 195],\n",
       "          [203, 193, 193],\n",
       "          [255, 254, 255]],\n",
       "  \n",
       "         [[204, 199, 198],\n",
       "          [204, 199, 198],\n",
       "          [207, 199, 199],\n",
       "          ...,\n",
       "          [206, 196, 196],\n",
       "          [200, 192, 193],\n",
       "          [255, 255, 255]]], dtype=uint8),\n",
       "  '3.png'),\n",
       " (array([[[162, 157, 166],\n",
       "          [163, 158, 167],\n",
       "          [163, 158, 167],\n",
       "          ...,\n",
       "          [ 90,  81,  84],\n",
       "          [ 87,  77,  83],\n",
       "          [ 85,  75,  81]],\n",
       "  \n",
       "         [[163, 158, 167],\n",
       "          [163, 158, 167],\n",
       "          [163, 158, 167],\n",
       "          ...,\n",
       "          [ 91,  84,  87],\n",
       "          [ 87,  80,  83],\n",
       "          [ 85,  78,  81]],\n",
       "  \n",
       "         [[163, 158, 167],\n",
       "          [163, 158, 167],\n",
       "          [163, 158, 167],\n",
       "          ...,\n",
       "          [ 89,  82,  85],\n",
       "          [ 86,  79,  82],\n",
       "          [ 84,  77,  80]],\n",
       "  \n",
       "         ...,\n",
       "  \n",
       "         [[153, 150, 159],\n",
       "          [153, 150, 159],\n",
       "          [154, 151, 160],\n",
       "          ...,\n",
       "          [122, 112, 112],\n",
       "          [120, 110, 110],\n",
       "          [121, 111, 111]],\n",
       "  \n",
       "         [[152, 149, 158],\n",
       "          [152, 150, 156],\n",
       "          [153, 150, 159],\n",
       "          ...,\n",
       "          [120, 112, 113],\n",
       "          [118, 110, 110],\n",
       "          [119, 111, 111]],\n",
       "  \n",
       "         [[151, 149, 155],\n",
       "          [152, 151, 155],\n",
       "          [152, 150, 156],\n",
       "          ...,\n",
       "          [118, 113, 112],\n",
       "          [116, 111, 110],\n",
       "          [117, 112, 111]]], dtype=uint8),\n",
       "  '1.png'),\n",
       " (array([[[ 52,  72, 103],\n",
       "          [ 53,  73, 104],\n",
       "          [ 57,  75, 104],\n",
       "          ...,\n",
       "          [154, 157, 142],\n",
       "          [154, 157, 141],\n",
       "          [156, 156, 142]],\n",
       "  \n",
       "         [[ 54,  72, 103],\n",
       "          [ 55,  73, 102],\n",
       "          [ 57,  75, 104],\n",
       "          ...,\n",
       "          [154, 157, 141],\n",
       "          [154, 157, 141],\n",
       "          [156, 156, 142]],\n",
       "  \n",
       "         [[ 56,  72, 101],\n",
       "          [ 56,  72, 101],\n",
       "          [ 59,  75, 104],\n",
       "          ...,\n",
       "          [152, 158, 141],\n",
       "          [152, 158, 141],\n",
       "          [154, 157, 142]],\n",
       "  \n",
       "         ...,\n",
       "  \n",
       "         [[ 55,  78, 104],\n",
       "          [ 56,  79, 105],\n",
       "          [ 56,  79, 105],\n",
       "          ...,\n",
       "          [164, 164, 150],\n",
       "          [164, 164, 150],\n",
       "          [163, 163, 149]],\n",
       "  \n",
       "         [[ 60,  81, 102],\n",
       "          [ 60,  81, 102],\n",
       "          [ 61,  82, 104],\n",
       "          ...,\n",
       "          [164, 164, 152],\n",
       "          [164, 164, 152],\n",
       "          [163, 163, 151]],\n",
       "  \n",
       "         [[ 68,  84,  97],\n",
       "          [ 68,  84,  97],\n",
       "          [ 69,  84, 100],\n",
       "          ...,\n",
       "          [162, 163, 153],\n",
       "          [162, 163, 153],\n",
       "          [161, 162, 153]]], dtype=uint8),\n",
       "  '4.png'),\n",
       " (array([[[ 80,  94,  90],\n",
       "          [ 77,  91,  87],\n",
       "          [ 76,  87,  84],\n",
       "          ...,\n",
       "          [191, 166, 162],\n",
       "          [191, 167, 161],\n",
       "          [192, 167, 163]],\n",
       "  \n",
       "         [[ 83, 101,  94],\n",
       "          [ 79,  97,  90],\n",
       "          [ 75,  93,  86],\n",
       "          ...,\n",
       "          [198, 166, 160],\n",
       "          [198, 166, 160],\n",
       "          [198, 166, 160]],\n",
       "  \n",
       "         [[ 86, 107,  98],\n",
       "          [ 82, 103,  94],\n",
       "          [ 77,  98,  89],\n",
       "          ...,\n",
       "          [197, 165, 159],\n",
       "          [198, 166, 160],\n",
       "          [198, 166, 160]],\n",
       "  \n",
       "         ...,\n",
       "  \n",
       "         [[108,  87,  72],\n",
       "          [112,  91,  76],\n",
       "          [114,  96,  79],\n",
       "          ...,\n",
       "          [200, 164, 158],\n",
       "          [200, 164, 158],\n",
       "          [200, 164, 158]],\n",
       "  \n",
       "         [[106,  89,  76],\n",
       "          [109,  93,  80],\n",
       "          [114,  98,  85],\n",
       "          ...,\n",
       "          [196, 164, 159],\n",
       "          [194, 164, 159],\n",
       "          [196, 164, 159]],\n",
       "  \n",
       "         [[102,  89,  81],\n",
       "          [105,  95,  85],\n",
       "          [109,  99,  89],\n",
       "          ...,\n",
       "          [186, 164, 159],\n",
       "          [184, 164, 159],\n",
       "          [186, 164, 159]]], dtype=uint8),\n",
       "  '5.png')]"
      ]
     },
     "execution_count": 165,
     "metadata": {},
     "output_type": "execute_result"
    }
   ],
   "source": [
    "inputpath = \"Dataset1\"\n",
    "outputpath = \"q1Res\"\n",
    "images = getImages(inputpath)\n",
    "images"
   ]
  },
  {
   "cell_type": "code",
   "execution_count": 166,
   "metadata": {},
   "outputs": [
    {
     "name": "stdout",
     "output_type": "stream",
     "text": [
      "[array([[[161, 156, 157],\n",
      "        [157, 152, 153],\n",
      "        [156, 150, 151],\n",
      "        ...,\n",
      "        [186, 180, 181],\n",
      "        [190, 184, 185],\n",
      "        [188, 182, 183]],\n",
      "\n",
      "       [[160, 155, 156],\n",
      "        [155, 150, 151],\n",
      "        [155, 149, 150],\n",
      "        ...,\n",
      "        [190, 184, 185],\n",
      "        [192, 185, 188],\n",
      "        [189, 182, 185]],\n",
      "\n",
      "       [[160, 155, 156],\n",
      "        [155, 150, 151],\n",
      "        [155, 149, 150],\n",
      "        ...,\n",
      "        [192, 186, 187],\n",
      "        [193, 186, 189],\n",
      "        [191, 184, 187]],\n",
      "\n",
      "       ...,\n",
      "\n",
      "       [[174, 171, 167],\n",
      "        [171, 168, 164],\n",
      "        [166, 161, 160],\n",
      "        ...,\n",
      "        [198, 193, 192],\n",
      "        [200, 195, 194],\n",
      "        [194, 189, 188]],\n",
      "\n",
      "       [[172, 169, 165],\n",
      "        [168, 165, 161],\n",
      "        [164, 159, 158],\n",
      "        ...,\n",
      "        [201, 196, 195],\n",
      "        [200, 195, 194],\n",
      "        [189, 185, 184]],\n",
      "\n",
      "       [[168, 166, 165],\n",
      "        [165, 163, 162],\n",
      "        [161, 156, 157],\n",
      "        ...,\n",
      "        [202, 197, 198],\n",
      "        [198, 194, 193],\n",
      "        [186, 184, 183]]], dtype=uint8), array([[[205, 199, 194],\n",
      "        [204, 198, 193],\n",
      "        [203, 197, 192],\n",
      "        ...,\n",
      "        [209, 196, 198],\n",
      "        [206, 195, 197],\n",
      "        [255, 254, 255]],\n",
      "\n",
      "       [[201, 197, 192],\n",
      "        [201, 197, 192],\n",
      "        [202, 196, 189],\n",
      "        ...,\n",
      "        [210, 197, 199],\n",
      "        [207, 196, 198],\n",
      "        [255, 254, 255]],\n",
      "\n",
      "       [[203, 197, 190],\n",
      "        [203, 197, 190],\n",
      "        [204, 196, 189],\n",
      "        ...,\n",
      "        [208, 198, 198],\n",
      "        [206, 198, 198],\n",
      "        [255, 255, 255]],\n",
      "\n",
      "       ...,\n",
      "\n",
      "       [[203, 194, 190],\n",
      "        [206, 195, 191],\n",
      "        [206, 194, 192],\n",
      "        ...,\n",
      "        [211, 198, 196],\n",
      "        [204, 195, 192],\n",
      "        [255, 254, 255]],\n",
      "\n",
      "       [[202, 195, 192],\n",
      "        [205, 196, 193],\n",
      "        [208, 196, 194],\n",
      "        ...,\n",
      "        [209, 197, 195],\n",
      "        [203, 193, 193],\n",
      "        [255, 254, 255]],\n",
      "\n",
      "       [[204, 199, 198],\n",
      "        [204, 199, 198],\n",
      "        [207, 199, 199],\n",
      "        ...,\n",
      "        [206, 196, 196],\n",
      "        [200, 192, 193],\n",
      "        [255, 255, 255]]], dtype=uint8), array([[[162, 157, 166],\n",
      "        [163, 158, 167],\n",
      "        [163, 158, 167],\n",
      "        ...,\n",
      "        [ 90,  81,  84],\n",
      "        [ 87,  77,  83],\n",
      "        [ 85,  75,  81]],\n",
      "\n",
      "       [[163, 158, 167],\n",
      "        [163, 158, 167],\n",
      "        [163, 158, 167],\n",
      "        ...,\n",
      "        [ 91,  84,  87],\n",
      "        [ 87,  80,  83],\n",
      "        [ 85,  78,  81]],\n",
      "\n",
      "       [[163, 158, 167],\n",
      "        [163, 158, 167],\n",
      "        [163, 158, 167],\n",
      "        ...,\n",
      "        [ 89,  82,  85],\n",
      "        [ 86,  79,  82],\n",
      "        [ 84,  77,  80]],\n",
      "\n",
      "       ...,\n",
      "\n",
      "       [[153, 150, 159],\n",
      "        [153, 150, 159],\n",
      "        [154, 151, 160],\n",
      "        ...,\n",
      "        [122, 112, 112],\n",
      "        [120, 110, 110],\n",
      "        [121, 111, 111]],\n",
      "\n",
      "       [[152, 149, 158],\n",
      "        [152, 150, 156],\n",
      "        [153, 150, 159],\n",
      "        ...,\n",
      "        [120, 112, 113],\n",
      "        [118, 110, 110],\n",
      "        [119, 111, 111]],\n",
      "\n",
      "       [[151, 149, 155],\n",
      "        [152, 151, 155],\n",
      "        [152, 150, 156],\n",
      "        ...,\n",
      "        [118, 113, 112],\n",
      "        [116, 111, 110],\n",
      "        [117, 112, 111]]], dtype=uint8), array([[[ 52,  72, 103],\n",
      "        [ 53,  73, 104],\n",
      "        [ 57,  75, 104],\n",
      "        ...,\n",
      "        [154, 157, 142],\n",
      "        [154, 157, 141],\n",
      "        [156, 156, 142]],\n",
      "\n",
      "       [[ 54,  72, 103],\n",
      "        [ 55,  73, 102],\n",
      "        [ 57,  75, 104],\n",
      "        ...,\n",
      "        [154, 157, 141],\n",
      "        [154, 157, 141],\n",
      "        [156, 156, 142]],\n",
      "\n",
      "       [[ 56,  72, 101],\n",
      "        [ 56,  72, 101],\n",
      "        [ 59,  75, 104],\n",
      "        ...,\n",
      "        [152, 158, 141],\n",
      "        [152, 158, 141],\n",
      "        [154, 157, 142]],\n",
      "\n",
      "       ...,\n",
      "\n",
      "       [[ 55,  78, 104],\n",
      "        [ 56,  79, 105],\n",
      "        [ 56,  79, 105],\n",
      "        ...,\n",
      "        [164, 164, 150],\n",
      "        [164, 164, 150],\n",
      "        [163, 163, 149]],\n",
      "\n",
      "       [[ 60,  81, 102],\n",
      "        [ 60,  81, 102],\n",
      "        [ 61,  82, 104],\n",
      "        ...,\n",
      "        [164, 164, 152],\n",
      "        [164, 164, 152],\n",
      "        [163, 163, 151]],\n",
      "\n",
      "       [[ 68,  84,  97],\n",
      "        [ 68,  84,  97],\n",
      "        [ 69,  84, 100],\n",
      "        ...,\n",
      "        [162, 163, 153],\n",
      "        [162, 163, 153],\n",
      "        [161, 162, 153]]], dtype=uint8), array([[[ 80,  94,  90],\n",
      "        [ 77,  91,  87],\n",
      "        [ 76,  87,  84],\n",
      "        ...,\n",
      "        [191, 166, 162],\n",
      "        [191, 167, 161],\n",
      "        [192, 167, 163]],\n",
      "\n",
      "       [[ 83, 101,  94],\n",
      "        [ 79,  97,  90],\n",
      "        [ 75,  93,  86],\n",
      "        ...,\n",
      "        [198, 166, 160],\n",
      "        [198, 166, 160],\n",
      "        [198, 166, 160]],\n",
      "\n",
      "       [[ 86, 107,  98],\n",
      "        [ 82, 103,  94],\n",
      "        [ 77,  98,  89],\n",
      "        ...,\n",
      "        [197, 165, 159],\n",
      "        [198, 166, 160],\n",
      "        [198, 166, 160]],\n",
      "\n",
      "       ...,\n",
      "\n",
      "       [[108,  87,  72],\n",
      "        [112,  91,  76],\n",
      "        [114,  96,  79],\n",
      "        ...,\n",
      "        [200, 164, 158],\n",
      "        [200, 164, 158],\n",
      "        [200, 164, 158]],\n",
      "\n",
      "       [[106,  89,  76],\n",
      "        [109,  93,  80],\n",
      "        [114,  98,  85],\n",
      "        ...,\n",
      "        [196, 164, 159],\n",
      "        [194, 164, 159],\n",
      "        [196, 164, 159]],\n",
      "\n",
      "       [[102,  89,  81],\n",
      "        [105,  95,  85],\n",
      "        [109,  99,  89],\n",
      "        ...,\n",
      "        [186, 164, 159],\n",
      "        [184, 164, 159],\n",
      "        [186, 164, 159]]], dtype=uint8)]\n",
      "['2.png', '3.png', '1.png', '4.png', '5.png']\n"
     ]
    }
   ],
   "source": [
    "images,filenames = seperateImageAndFilenames(images)\n",
    "print(images)\n",
    "print(filenames)"
   ]
  },
  {
   "cell_type": "code",
   "execution_count": null,
   "metadata": {},
   "outputs": [],
   "source": []
  },
  {
   "cell_type": "code",
   "execution_count": 170,
   "metadata": {
    "scrolled": false
   },
   "outputs": [
    {
     "data": {
      "image/png": "[encoded data removed]",
      "text/plain": [
       "<Figure size 432x288 with 1 Axes>"
      ]
     },
     "metadata": {
      "needs_background": "light"
     },
     "output_type": "display_data"
    },
    {
     "data": {
      "image/png": "[encoded data removed]",
      "text/plain": [
       "<Figure size 432x288 with 1 Axes>"
      ]
     },
     "metadata": {
      "needs_background": "light"
     },
     "output_type": "display_data"
    },
    {
     "data": {
      "image/png": "[encoded data removed]",
      "text/plain": [
       "<Figure size 432x288 with 1 Axes>"
      ]
     },
     "metadata": {
      "needs_background": "light"
     },
     "output_type": "display_data"
    },
    {
     "data": {
      "image/png": "[encoded data removed]",
      "text/plain": [
       "<Figure size 432x288 with 1 Axes>"
      ]
     },
     "metadata": {
      "needs_background": "light"
     },
     "output_type": "display_data"
    },
    {
     "data": {
      "image/png": "[encoded data removed]",
      "text/plain": [
       "<Figure size 432x288 with 1 Axes>"
      ]
     },
     "metadata": {
      "needs_background": "light"
     },
     "output_type": "display_data"
    }
   ],
   "source": [
    "images = enhance_images(images)\n",
    "draw_images(images)\n",
    "\n"
   ]
  },
  {
   "cell_type": "code",
   "execution_count": 186,
   "metadata": {},
   "outputs": [
    {
     "data": {
      "image/png": "[encoded data removed]",
      "text/plain": [
       "<Figure size 432x288 with 1 Axes>"
      ]
     },
     "metadata": {
      "needs_background": "light"
     },
     "output_type": "display_data"
    },
    {
     "data": {
      "image/png": "[encoded data removed]",
      "text/plain": [
       "<Figure size 432x288 with 1 Axes>"
      ]
     },
     "metadata": {
      "needs_background": "light"
     },
     "output_type": "display_data"
    },
    {
     "data": {
      "image/png": "[encoded data removed]",
      "text/plain": [
       "<Figure size 432x288 with 1 Axes>"
      ]
     },
     "metadata": {
      "needs_background": "light"
     },
     "output_type": "display_data"
    },
    {
     "data": {
      "image/png": "[encoded data removed]",
      "text/plain": [
       "<Figure size 432x288 with 1 Axes>"
      ]
     },
     "metadata": {
      "needs_background": "light"
     },
     "output_type": "display_data"
    },
    {
     "data": {
      "image/png": "[encoded data removed]",
      "text/plain": [
       "<Figure size 432x288 with 1 Axes>"
      ]
     },
     "metadata": {
      "needs_background": "light"
     },
     "output_type": "display_data"
    }
   ],
   "source": [
    "numbers,conts = bounding_box(images)\n"
   ]
  },
  {
   "cell_type": "code",
   "execution_count": 146,
   "metadata": {},
   "outputs": [],
   "source": [
    "images = skeleton(images)\n"
   ]
  },
  {
   "cell_type": "code",
   "execution_count": 129,
   "metadata": {},
   "outputs": [],
   "source": [
    "numberOfLoopies = numberOfLoops(images)\n",
    "measurePerformance(numberOfLoopies)\n"
   ]
  },
  {
   "cell_type": "code",
   "execution_count": 173,
   "metadata": {},
   "outputs": [],
   "source": [
    "from skimage.morphology import skeletonize\n",
    "from skimage import data\n",
    "import matplotlib.pyplot as plt\n",
    "from skimage.util import invert"
   ]
  },
  {
   "cell_type": "code",
   "execution_count": 179,
   "metadata": {},
   "outputs": [],
   "source": [
    "image = images[0]"
   ]
  },
  {
   "cell_type": "code",
   "execution_count": 180,
   "metadata": {},
   "outputs": [
    {
     "data": {
      "text/plain": [
       "array([[[255, 255, 255],\n",
       "        [255, 255, 255],\n",
       "        [255, 255, 255],\n",
       "        ...,\n",
       "        [255, 255, 255],\n",
       "        [255, 255, 255],\n",
       "        [255, 255, 255]],\n",
       "\n",
       "       [[255, 255, 255],\n",
       "        [255, 255, 255],\n",
       "        [255, 255, 255],\n",
       "        ...,\n",
       "        [255, 255, 255],\n",
       "        [255, 255, 255],\n",
       "        [255, 255, 255]],\n",
       "\n",
       "       [[255, 255, 255],\n",
       "        [255, 255, 255],\n",
       "        [255, 255, 255],\n",
       "        ...,\n",
       "        [255, 255, 255],\n",
       "        [255, 255, 255],\n",
       "        [255, 255, 255]],\n",
       "\n",
       "       ...,\n",
       "\n",
       "       [[255, 255, 255],\n",
       "        [255, 255, 255],\n",
       "        [255, 255, 255],\n",
       "        ...,\n",
       "        [255, 255, 255],\n",
       "        [255, 255, 255],\n",
       "        [255, 255, 255]],\n",
       "\n",
       "       [[255, 255, 255],\n",
       "        [255, 255, 255],\n",
       "        [255, 255, 255],\n",
       "        ...,\n",
       "        [255, 255, 255],\n",
       "        [255, 255, 255],\n",
       "        [255, 255, 255]],\n",
       "\n",
       "       [[255, 255, 255],\n",
       "        [255, 255, 255],\n",
       "        [255, 255, 255],\n",
       "        ...,\n",
       "        [255, 255, 255],\n",
       "        [255, 255, 255],\n",
       "        [255, 255, 255]]], dtype=uint8)"
      ]
     },
     "execution_count": 180,
     "metadata": {},
     "output_type": "execute_result"
    }
   ],
   "source": [
    "image"
   ]
  },
  {
   "cell_type": "code",
   "execution_count": 181,
   "metadata": {},
   "outputs": [],
   "source": [
    "skeleton = skeletonize(image)\n"
   ]
  },
  {
   "cell_type": "code",
   "execution_count": 182,
   "metadata": {},
   "outputs": [
    {
     "data": {
      "text/plain": [
       "array([[[0, 0, 0],\n",
       "        [0, 0, 0],\n",
       "        [0, 0, 0],\n",
       "        ...,\n",
       "        [0, 0, 0],\n",
       "        [0, 0, 0],\n",
       "        [0, 0, 0]],\n",
       "\n",
       "       [[0, 0, 0],\n",
       "        [0, 0, 0],\n",
       "        [0, 0, 0],\n",
       "        ...,\n",
       "        [0, 0, 0],\n",
       "        [0, 0, 0],\n",
       "        [0, 0, 0]],\n",
       "\n",
       "       [[0, 0, 0],\n",
       "        [0, 0, 0],\n",
       "        [0, 0, 0],\n",
       "        ...,\n",
       "        [0, 0, 0],\n",
       "        [0, 0, 0],\n",
       "        [0, 0, 0]],\n",
       "\n",
       "       ...,\n",
       "\n",
       "       [[0, 0, 0],\n",
       "        [0, 0, 0],\n",
       "        [0, 0, 0],\n",
       "        ...,\n",
       "        [0, 0, 0],\n",
       "        [0, 0, 0],\n",
       "        [0, 0, 0]],\n",
       "\n",
       "       [[0, 0, 0],\n",
       "        [0, 0, 0],\n",
       "        [0, 0, 0],\n",
       "        ...,\n",
       "        [0, 0, 0],\n",
       "        [0, 0, 0],\n",
       "        [0, 0, 0]],\n",
       "\n",
       "       [[0, 0, 0],\n",
       "        [0, 0, 0],\n",
       "        [0, 0, 0],\n",
       "        ...,\n",
       "        [0, 0, 0],\n",
       "        [0, 0, 0],\n",
       "        [0, 0, 0]]], dtype=uint8)"
      ]
     },
     "execution_count": 182,
     "metadata": {},
     "output_type": "execute_result"
    }
   ],
   "source": [
    "skeleton"
   ]
  },
  {
   "cell_type": "code",
   "execution_count": 183,
   "metadata": {},
   "outputs": [
    {
     "data": {
      "text/plain": [
       "array([[ True,  True,  True, ...,  True,  True,  True],\n",
       "       [ True,  True,  True, ...,  True,  True,  True],\n",
       "       [ True,  True,  True, ...,  True,  True,  True],\n",
       "       ...,\n",
       "       [ True,  True,  True, ...,  True,  True,  True],\n",
       "       [ True,  True,  True, ...,  True,  True,  True],\n",
       "       [ True,  True,  True, ...,  True,  True,  True]])"
      ]
     },
     "execution_count": 183,
     "metadata": {},
     "output_type": "execute_result"
    }
   ],
   "source": [
    "data.horse()"
   ]
  },
  {
   "cell_type": "code",
   "execution_count": 184,
   "metadata": {},
   "outputs": [
    {
     "data": {
      "text/plain": [
       "<matplotlib.image.AxesImage at 0x7f7b0d5e3080>"
      ]
     },
     "execution_count": 184,
     "metadata": {},
     "output_type": "execute_result"
    },
    {
     "data": {
      "image/png": "[encoded data removed]",
      "text/plain": [
       "<Figure size 432x288 with 1 Axes>"
      ]
     },
     "metadata": {
      "needs_background": "light"
     },
     "output_type": "display_data"
    }
   ],
   "source": [
    "plt.imshow(skeleton)"
   ]
  },
  {
   "cell_type": "code",
   "execution_count": 188,
   "metadata": {},
   "outputs": [
    {
     "ename": "TypeError",
     "evalue": "Expected Ptr<cv::UMat> for argument 'array'",
     "output_type": "error",
     "traceback": [
      "\u001b[0;31m---------------------------------------------------------------------------\u001b[0m",
      "\u001b[0;31mTypeError\u001b[0m                                 Traceback (most recent call last)",
      "\u001b[0;32m<ipython-input-188-b5f2957180dc>\u001b[0m in \u001b[0;36m<module>\u001b[0;34m\u001b[0m\n\u001b[0;32m----> 1\u001b[0;31m \u001b[0mx\u001b[0m\u001b[0;34m,\u001b[0m\u001b[0my\u001b[0m\u001b[0;34m,\u001b[0m\u001b[0mw\u001b[0m\u001b[0;34m,\u001b[0m\u001b[0mh\u001b[0m \u001b[0;34m=\u001b[0m \u001b[0mcv2\u001b[0m\u001b[0;34m.\u001b[0m\u001b[0mboundingRect\u001b[0m\u001b[0;34m(\u001b[0m\u001b[0mconts\u001b[0m\u001b[0;34m)\u001b[0m\u001b[0;34m\u001b[0m\u001b[0;34m\u001b[0m\u001b[0m\n\u001b[0m\u001b[1;32m      2\u001b[0m \u001b[0;34m\u001b[0m\u001b[0m\n\u001b[1;32m      3\u001b[0m \u001b[0mroi\u001b[0m \u001b[0;34m=\u001b[0m \u001b[0mimages\u001b[0m\u001b[0;34m[\u001b[0m\u001b[0;36m0\u001b[0m\u001b[0;34m]\u001b[0m\u001b[0;34m[\u001b[0m\u001b[0mx\u001b[0m\u001b[0;34m:\u001b[0m\u001b[0mx\u001b[0m\u001b[0;34m+\u001b[0m\u001b[0mw\u001b[0m\u001b[0;34m,\u001b[0m \u001b[0my\u001b[0m\u001b[0;34m:\u001b[0m\u001b[0my\u001b[0m\u001b[0;34m+\u001b[0m\u001b[0mh\u001b[0m\u001b[0;34m]\u001b[0m\u001b[0;34m\u001b[0m\u001b[0;34m\u001b[0m\u001b[0m\n",
      "\u001b[0;31mTypeError\u001b[0m: Expected Ptr<cv::UMat> for argument 'array'"
     ]
    }
   ],
   "source": [
    "x,y,w,h = cv2.boundingRect(conts)\n",
    "\n",
    "roi = images[0][x:x+w, y:y+h]"
   ]
  },
  {
   "cell_type": "code",
   "execution_count": null,
   "metadata": {},
   "outputs": [],
   "source": []
  },
  {
   "cell_type": "code",
   "execution_count": null,
   "metadata": {},
   "outputs": [],
   "source": []
  },
  {
   "cell_type": "code",
   "execution_count": null,
   "metadata": {},
   "outputs": [],
   "source": []
  },
  {
   "cell_type": "code",
   "execution_count": null,
   "metadata": {},
   "outputs": [],
   "source": []
  }
 ],
 "metadata": {
  "kernelspec": {
   "display_name": "Python 3",
   "language": "python",
   "name": "python3"
  },
  "language_info": {
   "codemirror_mode": {
    "name": "ipython",
    "version": 3
   },
   "file_extension": ".py",
   "mimetype": "text/x-python",
   "name": "python",
   "nbconvert_exporter": "python",
   "pygments_lexer": "ipython3",
   "version": "3.6.9"
  }
 },
 "nbformat": 4,
 "nbformat_minor": 4
}
